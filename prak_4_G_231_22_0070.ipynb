{
  "nbformat": 4,
  "nbformat_minor": 0,
  "metadata": {
    "colab": {
      "provenance": []
    },
    "kernelspec": {
      "name": "python3",
      "display_name": "Python 3"
    },
    "language_info": {
      "name": "python"
    }
  },
  "cells": [
    {
      "cell_type": "markdown",
      "source": [
        "Nama : SYAHRUL ROMADHON\n",
        "NIM : G.231.22.0070"
      ],
      "metadata": {
        "id": "kNHJ9gJEGrfx"
      }
    },
    {
      "cell_type": "code",
      "execution_count": 4,
      "metadata": {
        "colab": {
          "base_uri": "https://localhost:8080/"
        },
        "id": "JZmu0h0ZGqdx",
        "outputId": "30cc2d3d-d073-4abd-943b-e430a6c23aa3"
      },
      "outputs": [
        {
          "output_type": "stream",
          "name": "stdout",
          "text": [
            "Masukkan kalimat: the quick brown fox jumps over the little lazy dog\n",
            "\"the quick brown fox jumps over the little lazy dog\"\n",
            "\n",
            "adalah pangram\n"
          ]
        }
      ],
      "source": [
        "def cekPangram(kalimat):\n",
        "    # membuat set dari semua huruf alfabet\n",
        "    alfabet = set('abcdefghijklmnopqrstuvwxyz')\n",
        "\n",
        "    # menghapus spasi dan mengubah menjadi huruf kecil\n",
        "    kalimat = kalimat.replace(\" \", \"\").lower()\n",
        "\n",
        "    # membuat set dari kalimat\n",
        "    kalimat = set(kalimat)\n",
        "\n",
        "    # membandingkan set kalimat dengan set alfabet\n",
        "    return kalimat == alfabet\n",
        "\n",
        "# Program Utama untuk menguji fungsi di atas\n",
        "kalimat = input(\"Masukkan kalimat: \")\n",
        "if (cekPangram(kalimat)):\n",
        "    print('\"' + kalimat + '\"')\n",
        "    print(\"\\nadalah pangram\")\n",
        "else:\n",
        "    print('\"' + kalimat + '\"')\n",
        "    print(\"\\nbukan pangram\")\n"
      ]
    }
  ]
}