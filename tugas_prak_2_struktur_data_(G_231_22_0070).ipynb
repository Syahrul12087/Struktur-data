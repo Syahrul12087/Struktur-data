{
  "nbformat": 4,
  "nbformat_minor": 0,
  "metadata": {
    "colab": {
      "provenance": []
    },
    "kernelspec": {
      "name": "python3",
      "display_name": "Python 3"
    },
    "language_info": {
      "name": "python"
    }
  },
  "cells": [
    {
      "cell_type": "code",
      "execution_count": 1,
      "metadata": {
        "colab": {
          "base_uri": "https://localhost:8080/"
        },
        "id": "ouJVcCZmWUoy",
        "outputId": "ed35efdd-678f-40ad-de7c-bf7099096d52"
      },
      "outputs": [
        {
          "output_type": "stream",
          "name": "stdout",
          "text": [
            "[2, 3, 10, 11, 24, 52, 82]\n"
          ]
        }
      ],
      "source": [
        "def ngurutakeNomer(alist):\n",
        "    for slot in range(0, len(alist) - 1):\n",
        "        posisi = slot\n",
        "        for lokasi in range(slot + 1, len(alist)):\n",
        "            if alist[lokasi] < alist[posisi]:\n",
        "                posisi = lokasi\n",
        "        temp = alist[slot]\n",
        "        alist[slot] = alist[posisi]\n",
        "        alist[posisi] = temp\n",
        "\n",
        "angka = [52, 11, 24, 2, 82, 10, 3]\n",
        "ngurutakeNomer(angka)\n",
        "print(angka)"
      ]
    },
    {
      "cell_type": "code",
      "source": [
        "# Membuat tupel dengan daftar makanan favorit\n",
        "makanan_favorit = (\"mie ayam\", \"bakso\", \"bubur ayam\")\n",
        "\n",
        "# Mengakses elemen tupel\n",
        "print(\"Makanan favorit pertama:\", makanan_favorit[0])\n",
        "print(\"Makanan favorit kedua:\", makanan_favorit[1])\n",
        "print(\"Makanan favorit ketiga:\", makanan_favorit[2])\n",
        "\n",
        "# Menampilkan semua makanan favorit\n",
        "for makanan in makanan_favorit:\n",
        "    print(makanan)\n",
        "\n",
        "# Mengetahui panjang tupel\n",
        "print(\"Jumlah makanan favorit:\", len(makanan_favorit))"
      ],
      "metadata": {
        "colab": {
          "base_uri": "https://localhost:8080/"
        },
        "id": "9Tcip18pWZ8d",
        "outputId": "b292993e-af8d-4a47-960a-c5d1849d163c"
      },
      "execution_count": 2,
      "outputs": [
        {
          "output_type": "stream",
          "name": "stdout",
          "text": [
            "Makanan favorit pertama: mie ayam\n",
            "Makanan favorit kedua: bakso\n",
            "Makanan favorit ketiga: bubur ayam\n",
            "mie ayam\n",
            "bakso\n",
            "bubur ayam\n",
            "Jumlah makanan favorit: 3\n"
          ]
        }
      ]
    },
    {
      "cell_type": "code",
      "source": [
        "# Membuat data\n",
        "data = {\n",
        "    \"nama\": \"ardiansyah \",\n",
        "    \"umur\": 19,\n",
        "    \"alamat\": \"Jl. sejati No. 6\",\n",
        "    \"cita-cita\": \"masinis\"\n",
        "}\n",
        "\n",
        "# Mengakses nilai\n",
        "print(\"Nama:\", data[\"nama\"])\n",
        "print(\"Umur:\", data[\"umur\"])\n",
        "print(\"Alamat:\", data[\"alamat\"])\n",
        "print(\"Cita-cita:\", data[\"cita-cita\"])\n",
        "\n",
        "# Mengubah nilai\n",
        "data[\"umur\"] = 29\n",
        "data[\"alamat\"] = \"Jl. sejati No. 9\"\n",
        "\n",
        "# Menambahkan entri baru\n",
        "data[\"pekerjaan\"] = \"konten creator\"\n",
        "data[\"email\"] = \"ardiansyah808@gmail.com\"\n",
        "\n",
        "# Menghapus entri\n",
        "del data[\"cita-cita\"]\n",
        "\n",
        "# Menampilkan seluruh isi data\n",
        "print(\"\\nData Terbaru :\")\n",
        "for kunci, nilai in data.items():\n",
        "    print(kunci + \": \" + str(nilai))"
      ],
      "metadata": {
        "colab": {
          "base_uri": "https://localhost:8080/"
        },
        "id": "tLv4OpoeWfLa",
        "outputId": "822f638d-0bf5-4dda-d342-a820aa545a11"
      },
      "execution_count": 3,
      "outputs": [
        {
          "output_type": "stream",
          "name": "stdout",
          "text": [
            "Nama: ardiansyah \n",
            "Umur: 19\n",
            "Alamat: Jl. sejati No. 6\n",
            "Cita-cita: masinis\n",
            "\n",
            "Data Terbaru :\n",
            "nama: ardiansyah \n",
            "umur: 29\n",
            "alamat: Jl. sejati No. 9\n",
            "pekerjaan: konten creator\n",
            "email: ardiansyah808@gmail.com\n"
          ]
        }
      ]
    }
  ]
}